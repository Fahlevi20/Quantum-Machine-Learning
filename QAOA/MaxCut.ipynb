{
 "cells": [
  {
   "cell_type": "code",
   "execution_count": 5,
   "metadata": {},
   "outputs": [],
   "source": [
    "import matplotlib.pyplot as plt\n",
    "%matplotlib inline\n",
    "import numpy as np\n",
    "\n",
    "from qiskit import *\n",
    "from qiskit.providers.ibmq import least_busy\n",
    "from qiskit import QuantumCircuit, ClassicalRegister, QuantumRegister, execute\n",
    "from qiskit.quantum_info import Operator\n",
    "\n",
    "from qiskit.tools.visualization import plot_histogram\n",
    "from IPython.display import display, Math, Latex\n",
    "\n",
    "import pennylane as qml"
   ]
  },
  {
   "cell_type": "markdown",
   "metadata": {},
   "source": [
    "# QAOA for MaxCut"
   ]
  },
  {
   "cell_type": "markdown",
   "metadata": {},
   "source": [
    "In this notebook we will discuss a Quantum Approximate Optimization Algorithm *(QAOA)* for the MaxCut problem, which is combinatorial problem that cannot be computed in polynomial time, unless **P = NP**."
   ]
  },
  {
   "cell_type": "markdown",
   "metadata": {},
   "source": [
    "So let G be a graph on $n$ vertices. Given $\\emptyset \\neq S \\subset V(G)$ we define the cut $\\delta(S)$ as the set of edges connecting $S$ to its complement $\\bar S$, and $\\mu(G)$ denotes the size of the optimal cut for the given graph. Moreover, our focus here is to determine a cut that maximizes the number of cut edges, i.e, find the largest value for $|E(S, \\bar S)|$, given that\n",
    "\n",
    "$$\n",
    "\\begin{align*}\n",
    "    |E(S, \\bar S)| = \\{(u, v)\\text{ }|\\text{ }u \\in S, v \\in \\bar S\\}\n",
    "\\end{align*}\n",
    "$$\n",
    "\n",
    "\n",
    "Now, let $S \\subseteq V(G)$, then $x_s$ denotes the $\\mathbb{Z}_2^n$-characteristic vector of $S \\in \\mathbb{R}^{|V(G)|}$ and $x_{\\delta(S)}$ the $\\mathbb{Z}_2^n$-characteristic vector of $\\delta(S) \\in \\mathbb{R}^{E(G)}$. Then, we can write our problem as linear program given by\n",
    "\n",
    "$$\n",
    "\\begin{align*}\n",
    "\\text{max} &\\quad \\frac{1}{2}\\sum_{ij\\text{ }\\in\\text{ }E(G)} w_{ij}(1 - x_i x_j)\\\\\n",
    "\\text{subject to} &\\quad x_i \\in \\{-1, 1\\}\n",
    "\\end{align*}\n",
    "$$\n",
    "\n",
    "\n",
    "Which is a very natural formulation for our Maxcut, where we also assume that the edges of the graph can be weighted."
   ]
  },
  {
   "cell_type": "markdown",
   "metadata": {},
   "source": [
    "## A Quantum Approximation Approach \n",
    "\n",
    "In order to quantumly encode our objective function, we will define a *Cost Hamiltonian* such that\n",
    "\n",
    "$$\n",
    "\\begin{align*}\n",
    "H_c|x\\rangle = C(x)|x\\rangle\n",
    "\\end{align*}\n",
    "$$\n",
    "\n",
    "Where $|x\\rangle$ is a computational basis vector, which can be seen as an eigenvalue problem, defined as $T(v) = \\lambda v$, where the edge $C_{ij}$ has eigenvalue 1 if and only if the $i$th and $j$th qubits have different measurements results, which represents separete partitions of our sets $S$ and $\\bar S$.\n",
    "\n",
    "And it can be written as a diagonal hamiltonian in the computational basis,\n",
    "\n",
    "$$\n",
    "\\begin{align*}\n",
    "H_c = \\sum_{x \\in\\{0, 1\\}^n} C(x)|x\\rangle\\langle x|\n",
    "\\end{align*}\n",
    "$$\n",
    "\n",
    "We can rewrite it expanding into Pauli-$Z$ operators, by substituting for each vector $x_i \\in \\{0, 1\\}^n$ the matrix $x_i \\rightarrow \\frac{1}{2}(1 - Z_i)$, where $Z_i$ is the $Z$ operator that acts on qubit $i$. And with this assigment, we have the final equation that defines our hamiltonian in terms of the edges of the graph.\n",
    "\n",
    "$$\n",
    "\\begin{align*}\n",
    "H_c = \\frac{1}{2}\\sum_{(i, j) \\in E(G)} (1 - \\sigma_z^i\\sigma_z^j)\n",
    "\\end{align*}\n",
    "$$\n",
    "\n",
    "And finally we are able to define our unitary operator that will be used in our QAOA circuit,\n",
    "\n",
    "$$\n",
    "\\begin{align*}\n",
    "U(H_c, \\gamma) = \\exp(-i\\gamma H_c) = \\prod^m_{\\alpha = 1} e^{-i\\gamma C_{\\alpha}}\\\\\n",
    "\\text{          where } \\gamma \\in [0, 2\\pi]\n",
    "\\end{align*}\n",
    "$$\n",
    "\n",
    "Where $\\gamma \\in [0, 2\\pi]$\n",
    "\n",
    "Moreover, we define our mixing Hamiltonian $H_m$ as\n",
    "\n",
    "$$\n",
    "H_m = \\sum_{i = 0}^n \\sigma_i^x\n",
    "$$\n",
    "\n",
    "Where $\\sigma_i^x$ is the Pauli-$X$ gate acting on the $i$th qubit. And we define the $\\beta$ dependent $U(H_m, \\beta)$ unitary operator as it follows.\n",
    "\n",
    "$$\n",
    "\\begin{align*}\n",
    "U(H_m, \\beta) = \\exp(-i\\beta H_m) = \\prod^n_{\\alpha = 1} e^{-i\\beta X_{\\alpha}}\\\\\n",
    "\\text{          where } \\beta \\in [0, \\pi]\n",
    "\\end{align*}\n",
    "$$"
   ]
  },
  {
   "cell_type": "code",
   "execution_count": 13,
   "metadata": {},
   "outputs": [],
   "source": [
    "n_wires = 5\n",
    "\n",
    "#Butterfly Graph\n",
    "graph = [(0, 1), (0, 2), (1, 2), (2, 3), (2, 4), (3, 4)]\n",
    "\n",
    "#Cost Hamiltonian\n",
    "def U_Hc(beta):\n",
    "    for wire in range(n_wires):\n",
    "        qml.RX(2 * beta, wires=wire)\n",
    "\n",
    "\n",
    "#Mixing Hamiltonian\n",
    "def U_Hm(gamma):\n",
    "    for edge in graph:\n",
    "        wire1 = edge[0]\n",
    "        wire2 = edge[1]\n",
    "        qml.CNOT(wires=[wire1, wire2])\n",
    "        qml.RZ(gamma, wires=wire2)\n",
    "        qml.CNOT(wires=[wire1, wire2])\n",
    "\n",
    "#Computational Basis Measurement\n",
    "def measurement(wires):\n",
    "    n_wires = len(wires)\n",
    "    return qml.Hermitian(np.diag(range(2 ** n_wires)), wires=wires)"
   ]
  },
  {
   "cell_type": "markdown",
   "metadata": {},
   "source": [
    "### References\n",
    "\n",
    "[[1]](https://arxiv.org/pdf/1411.4028.pdf) A Quantum Approximate Optimization Algorithm, Farhi, Goldstone, and Gutmann (2014)\n",
    "\n",
    "[[2]](https://pennylane.ai/qml/demos/tutorial_qaoa_maxcut.html) PennyLane QAOA for MaxCut\n",
    "\n",
    "[[3]](https://qiskit.org/textbook/ch-applications/qaoa.html) Solving combinatorial optimization problems using QAOA"
   ]
  }
 ],
 "metadata": {
  "kernelspec": {
   "display_name": "Python 3",
   "language": "python",
   "name": "python3"
  },
  "language_info": {
   "codemirror_mode": {
    "name": "ipython",
    "version": 3
   },
   "file_extension": ".py",
   "mimetype": "text/x-python",
   "name": "python",
   "nbconvert_exporter": "python",
   "pygments_lexer": "ipython3",
   "version": "3.8.2"
  }
 },
 "nbformat": 4,
 "nbformat_minor": 4
}
