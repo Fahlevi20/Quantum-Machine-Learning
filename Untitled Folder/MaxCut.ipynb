{
 "cells": [
  {
   "cell_type": "code",
   "execution_count": 4,
   "metadata": {},
   "outputs": [],
   "source": [
    "import matplotlib.pyplot as plt\n",
    "%matplotlib inline\n",
    "import numpy as np\n",
    "\n",
    "from qiskit import *\n",
    "from qiskit.providers.ibmq import least_busy\n",
    "from qiskit import QuantumCircuit, ClassicalRegister, QuantumRegister, execute\n",
    "from qiskit.quantum_info import Operator\n",
    "\n",
    "from qiskit.tools.visualization import plot_histogram\n",
    "from IPython.display import display, Math, Latex\n",
    "\n",
    "import pennylane as qml"
   ]
  },
  {
   "cell_type": "markdown",
   "metadata": {},
   "source": [
    "# QAOA for MaxCut"
   ]
  },
  {
   "cell_type": "markdown",
   "metadata": {},
   "source": [
    "In this notebook we will discuss a Quantum Approximate Optimization Algorithm *(QAOA)* for the MaxCut problem, which is combinatorial problem that cannot be computed in polynomial time, unless **P = NP**."
   ]
  },
  {
   "cell_type": "markdown",
   "metadata": {},
   "source": [
    "## MaxCut"
   ]
  },
  {
   "cell_type": "markdown",
   "metadata": {},
   "source": [
    "So let G be a graph on $n$ vertices. Given $\\emptyset \\neq S \\subset V(G)$ we define the cut $\\delta(S)$ as the set of edges connecting $S$ to its complement $\\bar S$, and $\\mu(G)$ denotes the size of the optimal cut for the given graph. Moreover, our focus here is to determine a cut that maximizes the number of cut edges, i.e, find the largest value for $|E(S, \\bar S)|$, given that\n",
    "\n",
    "$$\n",
    "\\begin{align*}\n",
    "    |E(S, \\bar S)| = \\{(u, v)\\text{ }|\\text{ }u \\in S, v \\in \\bar S\\}\n",
    "\\end{align*}\n",
    "$$\n",
    "\n",
    "\n",
    "Now, let $S \\subseteq V(G)$, then $x_s$ denotes the $\\mathbb{Z}_2^n$-characteristic vector of $S \\in \\mathbb{R}^{|V(G)|}$ and $x_{\\delta(S)}$ the $\\mathbb{Z}_2^n$-characteristic vector of $\\delta(S) \\in \\mathbb{R}^{E(G)}$. Then, we can write our problem as linear program given by\n",
    "\n",
    "$$\n",
    "\\begin{align*}\n",
    "\\text{max} &\\quad \\frac{1}{2}\\sum_{ij\\text{ }\\in\\text{ }E(G)} w_{ij}(1 - x_i x_j)\\\\\n",
    "\\text{subject to} &\\quad x_i \\in \\{-1, 1\\}\n",
    "\\end{align*}\n",
    "$$\n",
    "\n",
    "\n",
    "Which is a very natural formulation for our Maxcut, where we also assume that the edges of the graph can be weighted."
   ]
  },
  {
   "cell_type": "markdown",
   "metadata": {},
   "source": [
    "## A circuit for QAOA\n",
    "\n",
    "We can write this problem as QAOA circuit. At first, lets rewrite our firt fomulation as follow"
   ]
  },
  {
   "cell_type": "code",
   "execution_count": null,
   "metadata": {},
   "outputs": [],
   "source": []
  }
 ],
 "metadata": {
  "kernelspec": {
   "display_name": "Python 3",
   "language": "python",
   "name": "python3"
  },
  "language_info": {
   "codemirror_mode": {
    "name": "ipython",
    "version": 3
   },
   "file_extension": ".py",
   "mimetype": "text/x-python",
   "name": "python",
   "nbconvert_exporter": "python",
   "pygments_lexer": "ipython3",
   "version": "3.8.2"
  }
 },
 "nbformat": 4,
 "nbformat_minor": 4
}
